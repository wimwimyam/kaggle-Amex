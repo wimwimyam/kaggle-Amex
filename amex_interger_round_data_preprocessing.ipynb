{
 "cells": [
  {
   "cell_type": "code",
   "execution_count": 1,
   "metadata": {},
   "outputs": [],
   "source": [
    "import numpy as np # linear algebra\n",
    "import pandas as pd # data processing, CSV file I/O (e.g. pd.read_csv)\n",
    "import matplotlib.pyplot as plt\n",
    "from tqdm.auto import tqdm\n",
    "import gc\n",
    "from sklearn.preprocessing import LabelEncoder, PowerTransformer, QuantileTransformer, RobustScaler, StandardScaler"
   ]
  },
  {
   "cell_type": "code",
   "execution_count": 2,
   "metadata": {},
   "outputs": [],
   "source": [
    "train = pd.read_parquet(\"./data/train.parquet\")\n",
    "test = pd.read_parquet(\"./data/test.parquet\")"
   ]
  },
  {
   "cell_type": "code",
   "execution_count": 3,
   "metadata": {
    "scrolled": true
   },
   "outputs": [
    {
     "data": {
      "text/plain": [
       "D_88     0.998915\n",
       "D_110    0.994335\n",
       "B_39     0.993920\n",
       "D_73     0.989902\n",
       "B_42     0.987078\n",
       "D_134    0.964801\n",
       "B_29     0.931046\n",
       "D_132    0.901911\n",
       "D_76     0.887462\n",
       "D_42     0.856943\n",
       "D_142    0.829266\n",
       "D_53     0.738429\n",
       "D_50     0.568097\n",
       "B_17     0.567229\n",
       "D_105    0.546228\n",
       "D_56     0.540716\n",
       "S_9      0.530357\n",
       "D_77     0.454476\n",
       "D_43     0.299812\n",
       "S_27     0.253267\n",
       "D_46     0.219056\n",
       "S_7      0.184498\n",
       "S_3      0.184498\n",
       "D_62     0.137064\n",
       "D_48     0.129934\n",
       "D_61     0.108118\n",
       "P_3      0.054505\n",
       "D_69     0.035158\n",
       "D_55     0.033409\n",
       "D_115    0.031947\n",
       "D_119    0.031947\n",
       "D_118    0.031947\n",
       "D_121    0.031947\n",
       "R_27     0.023267\n",
       "D_130    0.018358\n",
       "D_141    0.018358\n",
       "D_131    0.018358\n",
       "D_104    0.018358\n",
       "D_128    0.018358\n",
       "B_13     0.008952\n",
       "P_2      0.008313\n",
       "D_133    0.007722\n",
       "D_144    0.007363\n",
       "D_102    0.007350\n",
       "D_52     0.005345\n",
       "B_8      0.004026\n",
       "S_22     0.003439\n",
       "S_24     0.003361\n",
       "S_25     0.002323\n",
       "B_15     0.001252\n",
       "B_25     0.001252\n",
       "D_112    0.000479\n",
       "D_45     0.000365\n",
       "B_19     0.000364\n",
       "B_27     0.000364\n",
       "B_26     0.000364\n",
       "B_3      0.000364\n",
       "D_54     0.000364\n",
       "B_2      0.000364\n",
       "D_41     0.000364\n",
       "dtype: float64"
      ]
     },
     "execution_count": 3,
     "metadata": {},
     "output_type": "execute_result"
    }
   ],
   "source": [
    "# train.isnull().mean().sort_values(ascending=False).head(60)"
   ]
  },
  {
   "cell_type": "code",
   "execution_count": 3,
   "metadata": {},
   "outputs": [],
   "source": [
    "train['set'] = 'train'\n",
    "test['set'] = 'test'"
   ]
  },
  {
   "cell_type": "code",
   "execution_count": 4,
   "metadata": {},
   "outputs": [],
   "source": [
    "df = pd.concat([train,test]).reset_index(drop=True)"
   ]
  },
  {
   "cell_type": "code",
   "execution_count": 5,
   "metadata": {},
   "outputs": [
    {
     "data": {
      "text/plain": [
       "21"
      ]
     },
     "execution_count": 5,
     "metadata": {},
     "output_type": "execute_result"
    }
   ],
   "source": [
    "del train, test\n",
    "gc.collect()"
   ]
  },
  {
   "cell_type": "code",
   "execution_count": 6,
   "metadata": {},
   "outputs": [
    {
     "data": {
      "text/plain": [
       "(16895213, 191)"
      ]
     },
     "execution_count": 6,
     "metadata": {},
     "output_type": "execute_result"
    }
   ],
   "source": [
    "df.shape"
   ]
  },
  {
   "cell_type": "code",
   "execution_count": 7,
   "metadata": {},
   "outputs": [],
   "source": [
    "features = df.columns[2:-1]\n",
    "cat_features = ['B_30', 'B_38', 'D_114', 'D_116', 'D_117', 'D_120', 'D_126', 'D_63', 'D_64', 'D_66', 'D_68']\n",
    "dense_features = [col for col in features if col not in cat_features]"
   ]
  },
  {
   "cell_type": "code",
   "execution_count": 11,
   "metadata": {},
   "outputs": [],
   "source": [
    "df[dense_features[101]] = df[dense_features[101]].replace(-1,0)"
   ]
  },
  {
   "cell_type": "code",
   "execution_count": 9,
   "metadata": {},
   "outputs": [
    {
     "data": {
      "application/vnd.jupyter.widget-view+json": {
       "model_id": "f21516bd8dc7412ba4da900bb933c15d",
       "version_major": 2,
       "version_minor": 0
      },
      "text/plain": [
       "  0%|          | 0/11 [00:00<?, ?it/s]"
      ]
     },
     "metadata": {},
     "output_type": "display_data"
    }
   ],
   "source": [
    "for col in tqdm(cat_features):\n",
    "    df[col] = LabelEncoder().fit_transform(df[col])"
   ]
  },
  {
   "cell_type": "code",
   "execution_count": null,
   "metadata": {},
   "outputs": [],
   "source": [
    "int_col = (df[dense_features] == -1).sum() > 0\n",
    "int_col = int_col[int_col].index\n",
    "df[int_col] = df[int_col].replace(-1,np.nan).astype(np.float32)"
   ]
  },
  {
   "cell_type": "code",
   "execution_count": null,
   "metadata": {},
   "outputs": [],
   "source": [
    "df[dense_features] = df[dense_features].astype(np.float32)"
   ]
  },
  {
   "cell_type": "code",
   "execution_count": null,
   "metadata": {},
   "outputs": [],
   "source": [
    "df.shape"
   ]
  },
  {
   "cell_type": "code",
   "execution_count": 13,
   "metadata": {},
   "outputs": [],
   "source": [
    "for col in tqdm(dense_features):\n",
    "    QT = QuantileTransformer(n_quantiles=1000,output_distribution='normal', subsample=1_000_000)\n",
    "    df[[col]] = QT.fit_transform(df[[col]])"
   ]
  },
  {
   "cell_type": "code",
   "execution_count": 14,
   "metadata": {},
   "outputs": [],
   "source": [
    "# for col in tqdm(dense_features):\n",
    "#     RS = RobustScaler()\n",
    "#     df[[col]] = RS.fit_transform(df[[col]])"
   ]
  },
  {
   "cell_type": "code",
   "execution_count": null,
   "metadata": {},
   "outputs": [
    {
     "data": {
      "application/vnd.jupyter.widget-view+json": {
       "model_id": "0186a47579f74b4bb4f6bf6bb0af0fb1",
       "version_major": 2,
       "version_minor": 0
      },
      "text/plain": [
       "  0%|          | 0/177 [00:00<?, ?it/s]"
      ]
     },
     "metadata": {},
     "output_type": "display_data"
    }
   ],
   "source": [
    "# for col in tqdm(dense_features):\n",
    "#     SS = StandardScaler()\n",
    "#     df[[col]] = SS.fit_transform(df[[col]])"
   ]
  },
  {
   "cell_type": "code",
   "execution_count": 9,
   "metadata": {},
   "outputs": [],
   "source": [
    "features = cat_features + dense_features"
   ]
  },
  {
   "cell_type": "code",
   "execution_count": 10,
   "metadata": {},
   "outputs": [
    {
     "data": {
      "text/plain": [
       "1383534"
      ]
     },
     "execution_count": 10,
     "metadata": {},
     "output_type": "execute_result"
    }
   ],
   "source": [
    "df['customer_ID'].nunique()"
   ]
  },
  {
   "cell_type": "code",
   "execution_count": 11,
   "metadata": {},
   "outputs": [
    {
     "data": {
      "text/plain": [
       "188"
      ]
     },
     "execution_count": 11,
     "metadata": {},
     "output_type": "execute_result"
    }
   ],
   "source": [
    "len(features)"
   ]
  },
  {
   "cell_type": "code",
   "execution_count": 13,
   "metadata": {},
   "outputs": [
    {
     "data": {
      "text/plain": [
       "B_8        1.001572\n",
       "D_104      1.001982\n",
       "D_56       1.002011\n",
       "D_77       1.014382\n",
       "D_105      1.016661\n",
       "            ...    \n",
       "S_23      85.829074\n",
       "B_37      90.192801\n",
       "B_40      90.629014\n",
       "R_23      93.443066\n",
       "R_18     123.825999\n",
       "Length: 188, dtype: float64"
      ]
     },
     "execution_count": 13,
     "metadata": {},
     "output_type": "execute_result"
    }
   ],
   "source": [
    "df[features].abs().max().sort_values()"
   ]
  },
  {
   "cell_type": "code",
   "execution_count": null,
   "metadata": {
    "scrolled": true
   },
   "outputs": [],
   "source": [
    "train_labels = pd.read_csv(\"./data/train_labels.csv\",index_col=0)['target']"
   ]
  },
  {
   "cell_type": "code",
   "execution_count": 14,
   "metadata": {},
   "outputs": [],
   "source": [
    "X = np.full([1383534,13,188],np.nan,dtype=np.float32)\n",
    "y = np.full(1383534,-1,dtype=np.int8)"
   ]
  },
  {
   "cell_type": "code",
   "execution_count": 15,
   "metadata": {},
   "outputs": [
    {
     "data": {
      "application/vnd.jupyter.widget-view+json": {
       "model_id": "74c233ac19c444bfb7bcc08a4a193a2b",
       "version_major": 2,
       "version_minor": 0
      },
      "text/plain": [
       "  0%|          | 0/1383534 [00:00<?, ?it/s]"
      ]
     },
     "metadata": {},
     "output_type": "display_data"
    }
   ],
   "source": [
    "customer_list = []\n",
    "is_train = []\n",
    "for i, (cus, d) in tqdm(enumerate(df.groupby('customer_ID')),total=1383534):\n",
    "    if cus in train_labels.index:\n",
    "        y[i] = train_labels.loc[cus]\n",
    "        is_train.append(True)\n",
    "    else:\n",
    "        is_train.append(False)\n",
    "    X[i,-len(d):] = d[features].values\n",
    "    customer_list.append(cus)\n",
    "customer_list = np.array(customer_list)\n",
    "is_train = np.array(is_train)"
   ]
  },
  {
   "cell_type": "code",
   "execution_count": 16,
   "metadata": {},
   "outputs": [],
   "source": [
    "np.save(\"./data/X2\", X)\n",
    "# np.save(\"./data/X_freq\", X)\n",
    "np.save(\"./data/y\", y)\n",
    "np.save(\"./data/customer_list\", customer_list)\n",
    "np.save(\"./data/is_train\", is_train)"
   ]
  },
  {
   "cell_type": "code",
   "execution_count": null,
   "metadata": {},
   "outputs": [],
   "source": []
  }
 ],
 "metadata": {
  "kernelspec": {
   "display_name": "Python [conda env:.conda-ds]",
   "language": "python",
   "name": "conda-env-.conda-ds-py"
  },
  "language_info": {
   "codemirror_mode": {
    "name": "ipython",
    "version": 3
   },
   "file_extension": ".py",
   "mimetype": "text/x-python",
   "name": "python",
   "nbconvert_exporter": "python",
   "pygments_lexer": "ipython3",
   "version": "3.7.13"
  }
 },
 "nbformat": 4,
 "nbformat_minor": 2
}
